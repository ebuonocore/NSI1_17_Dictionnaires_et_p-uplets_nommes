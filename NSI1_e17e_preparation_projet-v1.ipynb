{
 "cells": [
  {
   "cell_type": "markdown",
   "metadata": {},
   "source": [
    "<div style=\"width:100%;border-collapse:separate;border:solid 2px;border-radius:14px;\">\n",
    "    <div style=\"display:flex;\">\n",
    "        <div style=\"display:inline;width:5%;\"></div>\n",
    "        <div style=\"display:inline;width:15%;\">NSI1</div>\n",
    "        <div style=\"display:inline;width:15%;\">e17e</div>\n",
    "        <div style=\"display:inline;width:70%;text-align:right;\"><b>Projet</b></div>\n",
    "        <div style=\"display:inline;width:5%;\"></div>\n",
    "    </div>\n",
    "    <div  style=\"display: flex;background-color:#EEE\">\n",
    "        <p style=\"width:100%;text-align:center;\">Projet Mosaïque</p>\n",
    "    </div>\n",
    "    <div  style=\"display: flex;\">\n",
    "        <p style=\"width:100%;text-align:center;\">Pièces du puzzle</p>\n",
    "    </div>\n",
    "</div>"
   ]
  },
  {
   "cell_type": "markdown",
   "metadata": {},
   "source": [
    "<div class = \"alert alert-success\">\n",
    "    \n",
    "**Objectifs de la séquence:**\n",
    "    \n",
    "Proposer des pistes pour lever les principaux obstacles techniques concernant la réalisation du projet.\n",
    "</div>\n",
    "\n",
    "<div class = \"alert alert-info\">\n",
    "    \n",
    "**Activités**\n",
    "    \n",
    "- <a href=#1>Obtenir la liste de tous les fichiers d'un répertoire</a>\n",
    "- <a href=#2>Ouvrir un fichier image: Lire la valeur des pixels</a>\n",
    "- <a href=#3>Calculer la valeur moyenne des niveaux de gris d'une image</a>\n",
    "- <a href=#4>Modifier une image: Convertir une image en couleurs en niveaux de gris</a>\n",
    "- <a href=#5>Modifier une image: Redimensionner une image</a>\n",
    "- <a href=#6>Enregistrer une image</a>\n",
    "- <a href=#7>Créer une image vide</a>\n",
    "- <a href=#8>Coller une image dans une image</a>\n",
    "- <a href=#9>Créer un dictionnaire et ajouter des couples clé/valeur</a>\n",
    "- <a href=#10>Trouve dans un dictionnaire la clé (de type entier) dont la valeur est la plus proche d'une réfénrece donnée</a>\n",
    "\n",
    "</div>\n"
   ]
  },
  {
   "cell_type": "markdown",
   "metadata": {},
   "source": [
    "<div class = \"alert alert-danger\">\n",
    "    \n",
    "Le notebook suivant ne propose pas du code a exécuter directement dans les cellule, mais des pistes à explorer pour réaliser et tester votre programme dans votre IDE (Thonny, Spyder...)"
   ]
  },
  {
   "cell_type": "markdown",
   "metadata": {},
   "source": [
    "Toutes les questions relatives au traitement des images ont déjà été traitées dans l'activité SNT_8c_Photo-Correction disponible sur <a href=\"https://mybinder.org/v2/gh/ebuonocore/SNT_8_Photographie/master\">MyBinder</a>.  \n",
    "Vous pouvez aussi vous référer au document de référence sur le <a herf=\"https://pillow.readthedocs.io/en/stable/reference/Image.html\">module PIL</a> (un peu plus difficile d'accès)"
   ]
  },
  {
   "cell_type": "markdown",
   "metadata": {},
   "source": [
    "<div id=\"1\"></div>\n",
    "\n",
    "## Obtenir la liste de tous les fichiers d'un répertoire\n",
    "\n",
    "\n",
    "Le site <a href=\"https://www.tutorialspoint.com/python/os_listdir.htm\">tutorialspoint.com</a> propose un exemple d'utilisation de la méthode <code>listdir()</code> du module <code>os</code>"
   ]
  },
  {
   "cell_type": "markdown",
   "metadata": {},
   "source": [
    "<div id=\"2\"></div>\n",
    "\n",
    "## Ouvrir un fichier image: Lire la valeur des pixels\n",
    "\n",
    "Cette question a déjà été traité dans l'activité SNT_8c_Photo-Correction disponible sur <a href=\"https://mybinder.org/v2/gh/ebuonocore/SNT_8_Photographie/master\">MyBinder</a>."
   ]
  },
  {
   "cell_type": "code",
   "execution_count": null,
   "metadata": {},
   "outputs": [],
   "source": [
    "from PIL import Image # Imporation du module PIL\n",
    "\n",
    "img = Image.open(nom_du_fichier_image) # Ouverture du fichier image\n",
    "\n",
    "img.getpixel((x,y)) # Renvoie le tuple (R,V,B) du pixel de coordonnées (x,y)"
   ]
  },
  {
   "cell_type": "markdown",
   "metadata": {},
   "source": [
    "<div id=\"3\"></div>\n",
    "\n",
    "## Calculer la valeur moyenne des niveaux de gris d'une image\n",
    "\n",
    "Reportez-vous à l'activité SNT_8c_Photo-Correction disponible sur <a href=\"https://mybinder.org/v2/gh/ebuonocore/SNT_8_Photographie/master\">MyBinder</a> où nous avions déjà traité des questions similaires.  \n",
    "Soit <code>img</code> l'objet Image précédemment ouvert avec le module PIL (voir juste au-dessus).  \n",
    "Pour calculer la valeur moyenne du niveau de gris de cette image, le code pourrait suivre le pseudo-code suivant:"
   ]
  },
  {
   "cell_type": "code",
   "execution_count": null,
   "metadata": {},
   "outputs": [],
   "source": [
    "# Récupérer les dimensions de l'image dans les variable largeur et hauteur\n",
    "# Initialiser la somme des niveaux de gris à 0: somme <- 0\n",
    "# Parcourir toutes les lignes (nombre hauteur de lignes)\n",
    "    # Parcourir chaque point de cette ligne (nombre largeur de points)\n",
    "        # gris <- (R+V+B)//3 avec (R,V,B) code couleur rouge, vert, bleu du point\n",
    "        # Ajouter gris à somme : somme <- somme + gris\n",
    "# Renvoyer la valeur moyenne, c'est à dire la somme // nombre de points"
   ]
  },
  {
   "cell_type": "markdown",
   "metadata": {},
   "source": [
    "<div id=\"4\"></div>\n",
    "\n",
    "## Modifier une image: Convertir une image en couleurs en niveaux de gris\n",
    "\n",
    "Reportez-vous à l'activité SNT_8c_Photo-Correction disponible sur <a href=\"https://mybinder.org/v2/gh/ebuonocore/SNT_8_Photographie/master\">MyBinder</a> où nous avions déjà traité des questions similaires.  \n",
    "Soit <code>img</code> l'objet Image précédemment ouvert avec le module PIL (voir au-dessus).  \n",
    "Le code pourrait suivre le pseudo-code suivant:"
   ]
  },
  {
   "cell_type": "code",
   "execution_count": null,
   "metadata": {},
   "outputs": [],
   "source": [
    "# Récupérer les dimensions de l'image dans les variable largeur et hauteur\n",
    "# Parcourir toutes les lignes (nombre hauteur de lignes)\n",
    "    # Parcourir chaque point de cette ligne (nombre largeur de points)\n",
    "        # gris <- (R+V+B)//3 avec (R,V,B) code couleur rouge, vert, bleu du point\n",
    "        # Imposer à ce point le code couleur (gris, gris, gris)"
   ]
  },
  {
   "cell_type": "markdown",
   "metadata": {},
   "source": [
    "Pour imposer une couleur (R,V,B) au point de coordonnées (x,y), on utilise la méthode <code>putpixel()</code>"
   ]
  },
  {
   "cell_type": "code",
   "execution_count": null,
   "metadata": {},
   "outputs": [],
   "source": [
    "img.putpixel((x,y),(R,V,B))"
   ]
  },
  {
   "cell_type": "markdown",
   "metadata": {},
   "source": [
    "<div id=\"5\"></div>\n",
    "\n",
    "## Modifier une image: Redimensionner une image\n",
    "\n",
    "Le site <a href=\"https://www.tutorialspoint.com/python_pillow/python_pillow_resizing_an_image.htm\">tutorialspoint.com</a> propose un exemple de l'utilisation de la méthode <code>resize()</code> d'un objet <code>Image</code> du module <code>PIL</code>"
   ]
  },
  {
   "cell_type": "code",
   "execution_count": null,
   "metadata": {},
   "outputs": [],
   "source": [
    "from PIL import Image\n",
    "\n",
    "#Create an Image Object from an Image\n",
    "im = Image.open(\"images/cat.jpg\")\n",
    "\n",
    "#Make the new image half the width and half the height of the original image\n",
    "resized_im = im.resize(largeur_finale, hauteur_finale)"
   ]
  },
  {
   "cell_type": "markdown",
   "metadata": {},
   "source": [
    "<div id=\"6\"></div>\n",
    " \n",
    "## Enregistrer une image\n",
    "\n",
    "Le site <a href=\"https://www.kite.com/python/answers/how-to-save-an-image-with-pil-in-python\">kite.com</a> propose un exemple de l'utilisation de la méthode <code>save()</code> d'un objet <code>Image</code> du module <code>PIL</code>\n"
   ]
  },
  {
   "cell_type": "code",
   "execution_count": null,
   "metadata": {},
   "outputs": [],
   "source": [
    "from PIL import Image\n",
    "\n",
    "img.save(\"petit_chaton.png\")"
   ]
  },
  {
   "cell_type": "markdown",
   "metadata": {},
   "source": [
    "<div id=\"7\"></div>\n",
    "\n",
    "## Créer une image vide\n",
    "\n",
    "Le code suivant permet de créer une nouvelle image vierge dont les codes couleurs sont codés au fromat \"RGB\".  \n",
    "<code>largeur</code> et <code>hauteur</code> sont deux variables représentant les dimensions de cette image."
   ]
  },
  {
   "cell_type": "code",
   "execution_count": null,
   "metadata": {},
   "outputs": [],
   "source": [
    "from PIL import Image\n",
    "\n",
    "nouvelle_image = Image.new(mode = \"RGB\", size = (largeur, hauteur))"
   ]
  },
  {
   "cell_type": "markdown",
   "metadata": {},
   "source": [
    "<div id=\"8\"></div>\n",
    "\n",
    "## Coller une image dans une image\n",
    "\n",
    "Le code suivant permet d'insérer une image nommée <code>vignette</code> sur l'image <code>nouvelle_image</code> entre les points de coordonnées (x1, y1) et (x2, y2)"
   ]
  },
  {
   "cell_type": "code",
   "execution_count": null,
   "metadata": {},
   "outputs": [],
   "source": [
    "from PIL import Image\n",
    "\n",
    "nouvelle_image.paste(vignette, (x1, y1, x2, y2))"
   ]
  },
  {
   "cell_type": "markdown",
   "metadata": {},
   "source": [
    "<div id=\"9\"></div>\n",
    "\n",
    "## Créer un dictionnaire et ajouter des couples clé/valeur"
   ]
  },
  {
   "cell_type": "code",
   "execution_count": 6,
   "metadata": {},
   "outputs": [
    {
     "data": {
      "text/plain": [
       "{13: 'image1', 8: 'image2'}"
      ]
     },
     "execution_count": 6,
     "metadata": {},
     "output_type": "execute_result"
    }
   ],
   "source": [
    "mon_dictionnaire = dict()\n",
    "\n",
    "nouvelle_cle = 13\n",
    "nouvelle_valeur = \"image1\"\n",
    "mon_dictionnaire[nouvelle_cle] = nouvelle_valeur\n",
    "\n",
    "nouvelle_cle = 8\n",
    "nouvelle_valeur = \"image2\"\n",
    "mon_dictionnaire[nouvelle_cle] = nouvelle_valeur\n",
    "\n",
    "mon_dictionnaire"
   ]
  },
  {
   "cell_type": "markdown",
   "metadata": {},
   "source": [
    "<div id=\"10\"></div>\n",
    "\n",
    "## Trouve dans un dictionnaire la clé (de type entier) dont la valeur est la plus proche d'une réfénrece donnée\n",
    "\n",
    "Reportez-vous à l'activité NSI1_e17d_projet_mosaique_ex_preliminaires."
   ]
  },
  {
   "cell_type": "markdown",
   "metadata": {},
   "source": [
    "---\n",
    "<p style=\"font-family:Comic Sans MS; text-align: center; color:gray; font-size: x-small; \">- Eric Buonocore. Février 2021 -<br></p>\n",
    "\n",
    "![Licence CC BY NC SA](https://licensebuttons.net/l/by-nc-sa/3.0/88x31.png)"
   ]
  }
 ],
 "metadata": {
  "kernelspec": {
   "display_name": "Python 3",
   "language": "python",
   "name": "python3"
  },
  "language_info": {
   "codemirror_mode": {
    "name": "ipython",
    "version": 3
   },
   "file_extension": ".py",
   "mimetype": "text/x-python",
   "name": "python",
   "nbconvert_exporter": "python",
   "pygments_lexer": "ipython3",
   "version": "3.7.6"
  }
 },
 "nbformat": 4,
 "nbformat_minor": 2
}
