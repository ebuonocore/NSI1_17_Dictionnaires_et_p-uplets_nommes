{
 "cells": [
  {
   "cell_type": "markdown",
   "metadata": {},
   "source": [
    "<table style=\"width:100%;\">\n",
    "    <tr>\n",
    "        <th><h2>NSI1</h2></th>\n",
    "        <th><h2>e17a</h2></th>\n",
    "        <th style=\"width:80%;\" colspan=\"2\"><h2>Représentation des données</h2></th>\n",
    "    </tr>\n",
    "    <tr>\n",
    "        <td colspan=\"4\"><h3>Types construits</h3></td>\n",
    "    </tr>\n",
    "    <tr>\n",
    "        <td colspan=\"3\"><h3>Dictionnaires et p-uplets nommés</h3></td>\n",
    "        <td style=\"width:10%;\"><h3>1/1</h3></td>\n",
    "    </tr>\n",
    "</table>"
   ]
  },
  {
   "cell_type": "markdown",
   "metadata": {},
   "source": [
    "## Objectifs de la séquence: \n",
    "Définition et utilisation des dictionnaires (type dict)\n",
    "\n",
    "## Sommaire\n",
    "\n",
    "- Définition, syntaxe, méthodes et principe\n",
    "- Parcourir et interroger un dictionnaire\n",
    "- Exemple: Un annuaire de personnes peu recommandables\n",
    "- Liste de dictionnaires: p-uplet nommé\n",
    "- Défi 1: Chercher les clefs d'un annuaire\n",
    "- Analyse d'une base de données: Les Golden Globes\n",
    "- Défi 2: Nombre de victoires de Robin Williams au Golden Globes\n",
    "- Défi Ultime: Une erreur sur un article de Wikipédia ?\n",
    "\n",
    "\n",
    "<b> Définition et syntaxe</b>\n",
    "\n",
    "Un dictionnaire est un ensemble d'éléments entourés d'accolades { }   \n",
    "Chaque élément d'un dictionnaire est composé d'une paire clé-valeur.  \n",
    "La clef et la valeur sont séparés par :  "
   ]
  },
  {
   "cell_type": "code",
   "execution_count": 1,
   "metadata": {},
   "outputs": [],
   "source": [
    "un_dico = {\"Prénom\" : \"Titeuf\" , \"Copain\": \"Hugo\" , \"Age\" : 10 ,\"Passion\" : \"Nadia\"}"
   ]
  },
  {
   "cell_type": "code",
   "execution_count": 2,
   "metadata": {},
   "outputs": [
    {
     "data": {
      "text/plain": [
       "dict"
      ]
     },
     "execution_count": 2,
     "metadata": {},
     "output_type": "execute_result"
    }
   ],
   "source": [
    "type (un_dico)"
   ]
  },
  {
   "cell_type": "markdown",
   "metadata": {},
   "source": [
    "![Photo_de_classe_Titeuf](fichiers/Titeuf-les-personnages.jpg \"Photo de classe Titeuf\")"
   ]
  },
  {
   "cell_type": "markdown",
   "metadata": {},
   "source": [
    "<code>len()</code> renvoie le nombre de paires."
   ]
  },
  {
   "cell_type": "code",
   "execution_count": 3,
   "metadata": {},
   "outputs": [
    {
     "data": {
      "text/plain": [
       "4"
      ]
     },
     "execution_count": 3,
     "metadata": {},
     "output_type": "execute_result"
    }
   ],
   "source": [
    "len(un_dico)"
   ]
  },
  {
   "cell_type": "markdown",
   "metadata": {},
   "source": [
    "Les clés sont des chaînes de caractères ou des nombres.  \n",
    "Les valeurs peuvent être des chaînes de caractères, des nombres, des booléens...   \n",
    "\n",
    "<b>Principe:</b> En interrogeant une clef du dictionnaire, on retrouve la valeur associée.\n"
   ]
  },
  {
   "cell_type": "code",
   "execution_count": 4,
   "metadata": {},
   "outputs": [
    {
     "data": {
      "text/plain": [
       "'Titeuf'"
      ]
     },
     "execution_count": 4,
     "metadata": {},
     "output_type": "execute_result"
    }
   ],
   "source": [
    "un_dico[\"Prénom\"]"
   ]
  },
  {
   "cell_type": "code",
   "execution_count": 5,
   "metadata": {},
   "outputs": [
    {
     "data": {
      "text/plain": [
       "10"
      ]
     },
     "execution_count": 5,
     "metadata": {},
     "output_type": "execute_result"
    }
   ],
   "source": [
    "un_dico[\"Age\"]"
   ]
  },
  {
   "cell_type": "markdown",
   "metadata": {},
   "source": [
    "Alors que le nom du dictionnaire référernce l'ensemble du dictionnaire."
   ]
  },
  {
   "cell_type": "code",
   "execution_count": 6,
   "metadata": {},
   "outputs": [
    {
     "data": {
      "text/plain": [
       "{'Prénom': 'Titeuf', 'Copain': 'Hugo', 'Age': 10, 'Passion': 'Nadia'}"
      ]
     },
     "execution_count": 6,
     "metadata": {},
     "output_type": "execute_result"
    }
   ],
   "source": [
    "un_dico"
   ]
  },
  {
   "cell_type": "markdown",
   "metadata": {},
   "source": [
    "Création d'un dictionnaire et ajout de paires clés-valeurs"
   ]
  },
  {
   "cell_type": "code",
   "execution_count": 7,
   "metadata": {},
   "outputs": [],
   "source": [
    "notes_films = {}\n",
    "notes_films[\"Jumanji 8\"] = 7\n",
    "notes_films[\"Star Wars XII\"] = 11\n",
    "notes_films[\"Avengers 9\"] = 8"
   ]
  },
  {
   "cell_type": "code",
   "execution_count": 8,
   "metadata": {},
   "outputs": [
    {
     "data": {
      "text/plain": [
       "7"
      ]
     },
     "execution_count": 8,
     "metadata": {},
     "output_type": "execute_result"
    }
   ],
   "source": [
    "notes_films[\"Jumanji 8\"]"
   ]
  },
  {
   "cell_type": "markdown",
   "metadata": {},
   "source": [
    "Un  dictionnaire est <b>mutable</b>:  On peut en modifier le contenu."
   ]
  },
  {
   "cell_type": "code",
   "execution_count": 9,
   "metadata": {},
   "outputs": [
    {
     "data": {
      "text/plain": [
       "12"
      ]
     },
     "execution_count": 9,
     "metadata": {},
     "output_type": "execute_result"
    }
   ],
   "source": [
    "notes_films[\"Jumanji 8\"] = 12 # si cette clef existe déjà il l'écrase, sinon elle est créée.\n",
    "notes_films[\"Jumanji 8\"]"
   ]
  },
  {
   "cell_type": "markdown",
   "metadata": {},
   "source": [
    "<code>del()</code> permet de supprimer des clés."
   ]
  },
  {
   "cell_type": "code",
   "execution_count": 10,
   "metadata": {},
   "outputs": [
    {
     "data": {
      "text/plain": [
       "{'Jumanji 8': 12, 'Star Wars XII': 11}"
      ]
     },
     "execution_count": 10,
     "metadata": {},
     "output_type": "execute_result"
    }
   ],
   "source": [
    "del notes_films[\"Avengers 9\"]\n",
    "notes_films"
   ]
  },
  {
   "cell_type": "markdown",
   "metadata": {},
   "source": [
    "1- Soit un dictionnaire <i>fiche_élève</i> qui contient les clés <i>\"Prénom\", \"Nom\",\"Passion\", \"Age\", \"Date de naissance\"</i>  \n",
    "Quel sera le contenu de ce dictionnaire après l'exécution de <code>del fiche_élève[\"Passion\"]</code> ? "
   ]
  },
  {
   "cell_type": "code",
   "execution_count": 11,
   "metadata": {},
   "outputs": [],
   "source": [
    "fiche_élève = {\"Prénom\":\"Alan\",\"Nom\":\"Turing\",\"Passion\":\"Casser des codes\",\"Age\":107,\"Date de naissance\":\"23/06/1912\" }"
   ]
  },
  {
   "cell_type": "code",
   "execution_count": 12,
   "metadata": {},
   "outputs": [],
   "source": [
    "del fiche_élève[\"Passion\"]\n",
    "... # affichez ici fiche_élève"
   ]
  },
  {
   "cell_type": "markdown",
   "metadata": {},
   "source": [
    "2- C'est votre anniversaire !  \n",
    "Que fait <code>fiche_élève[\"Age\"] = fiche_élève[\"Age\"] + 1 </code>"
   ]
  },
  {
   "cell_type": "code",
   "execution_count": 13,
   "metadata": {},
   "outputs": [
    {
     "data": {
      "text/plain": [
       "{'Prénom': 'Alan',\n",
       " 'Nom': 'Turing',\n",
       " 'Age': 108,\n",
       " 'Date de naissance': '23/06/1912'}"
      ]
     },
     "execution_count": 13,
     "metadata": {},
     "output_type": "execute_result"
    }
   ],
   "source": [
    "fiche_élève[\"Age\"] = fiche_élève[\"Age\"] + 1\n",
    "fiche_élève"
   ]
  },
  {
   "cell_type": "markdown",
   "metadata": {},
   "source": [
    "<b>Parcourir</b> un dictionnaire par clés avec la méthode <code>keys()</code>"
   ]
  },
  {
   "cell_type": "code",
   "execution_count": 14,
   "metadata": {},
   "outputs": [
    {
     "name": "stdout",
     "output_type": "stream",
     "text": [
      "Prénom\n",
      "Copain\n",
      "Age\n",
      "Passion\n"
     ]
    }
   ],
   "source": [
    "for designation in un_dico.keys():\n",
    "    print(designation)"
   ]
  },
  {
   "cell_type": "markdown",
   "metadata": {},
   "source": [
    "Parcourir un dictionnaire par valeurs avec la méthode <code>values()</code>"
   ]
  },
  {
   "cell_type": "code",
   "execution_count": 15,
   "metadata": {},
   "outputs": [
    {
     "name": "stdout",
     "output_type": "stream",
     "text": [
      "Titeuf\n",
      "Hugo\n",
      "10\n",
      "Nadia\n"
     ]
    }
   ],
   "source": [
    "for info in un_dico.values():\n",
    "    print(info)"
   ]
  },
  {
   "cell_type": "markdown",
   "metadata": {},
   "source": [
    "3- Est-ce que 'Nadia' est une valeur du dictionnaire ?"
   ]
  },
  {
   "cell_type": "code",
   "execution_count": 16,
   "metadata": {},
   "outputs": [
    {
     "data": {
      "text/plain": [
       "True"
      ]
     },
     "execution_count": 16,
     "metadata": {},
     "output_type": "execute_result"
    }
   ],
   "source": [
    "'Nadia' in  un_dico.values()"
   ]
  },
  {
   "cell_type": "code",
   "execution_count": 17,
   "metadata": {},
   "outputs": [
    {
     "data": {
      "text/plain": [
       "False"
      ]
     },
     "execution_count": 17,
     "metadata": {},
     "output_type": "execute_result"
    }
   ],
   "source": [
    "'Vomito' in  un_dico.values()"
   ]
  },
  {
   "cell_type": "markdown",
   "metadata": {},
   "source": [
    "4- Est-ce que le dictionnaire contient la clé 'Copain' ?"
   ]
  },
  {
   "cell_type": "code",
   "execution_count": 18,
   "metadata": {},
   "outputs": [
    {
     "data": {
      "text/plain": [
       "True"
      ]
     },
     "execution_count": 18,
     "metadata": {},
     "output_type": "execute_result"
    }
   ],
   "source": [
    "'Copain' in  un_dico.keys()"
   ]
  },
  {
   "cell_type": "markdown",
   "metadata": {},
   "source": [
    "Remarque: Par défaut <code>'Copain' in un_dico</code> interroge l'existence de 'Copain' parmi les clés."
   ]
  },
  {
   "cell_type": "code",
   "execution_count": 19,
   "metadata": {},
   "outputs": [
    {
     "data": {
      "text/plain": [
       "True"
      ]
     },
     "execution_count": 19,
     "metadata": {},
     "output_type": "execute_result"
    }
   ],
   "source": [
    "'Copain' in un_dico # Par défaut, vous n'avez pas besoin de préciser la méthode .keys()"
   ]
  },
  {
   "cell_type": "markdown",
   "metadata": {},
   "source": [
    "Enfin, il est possible de parcourir un dictionnaire à la fois sur les clés et les valeurs en utilisant la méthode <code>items()</code>."
   ]
  },
  {
   "cell_type": "code",
   "execution_count": null,
   "metadata": {},
   "outputs": [],
   "source": [
    "for designation, info in un_dico.items(): # la boucle for permet d'itérer sur tous les éléments du dictionnaire\n",
    "    print (designation,\" : \", info) # la méthode items() renvoie le p-uplet (clé,valeur) "
   ]
  },
  {
   "cell_type": "markdown",
   "metadata": {},
   "source": [
    "5- <b>Un annuaire de personnes peu recommandables:</b>\n",
    "    Nous allons construire des fiches d'annuaire téléphonique.  \n",
    "    Chaque fiche sera un dictionnaire dont les clés seront <b>Nom</b>, <b>Prénom</b>, <b>Numéro</b>.  \n",
    "    Les fiches sont nommées: fiche1, fiche2 , fiche3 et fiche4\n",
    "    \n",
    "  Sur chaque ligne, les valeurs à renseigner sont séparées par des virgules:  \n",
    "  \n",
    "        Addams, Gomez, 07.66.60.00.01  \n",
    "        Addams, Morticia , 07.66.60.00.00  \n",
    "        Addams, Pugsley Uno, 07.66.60.06.59 \n",
    "        Addams, Mercredi Vendredi,  07.66.60.06.66"
   ]
  },
  {
   "cell_type": "markdown",
   "metadata": {},
   "source": [
    "![La_Main_Addams](fichiers/hand_addams_phone_anim.gif \"La Main de la famille Addams\")"
   ]
  },
  {
   "cell_type": "code",
   "execution_count": null,
   "metadata": {},
   "outputs": [],
   "source": [
    "fiche1 = {...}\n",
    "fiche2 = {\"Nom\":\"Addams\", \"Prénom\":\"Morticia\", \"Numéro\":\"07.66.60.00.00\"}\n",
    "fiche3 = {\"Nom\":\"Addams\", \"Prénom\":\"Pugsley Uno\", \"Numéro\":\"07.66.60.06.59\"}\n",
    "fiche4 = {\"Nom\":\"Addams\", \"Prénom\":\"Mercredi Vendredi\", \"Numéro\":\"07.66.60.06.59\"}"
   ]
  },
  {
   "cell_type": "markdown",
   "metadata": {},
   "source": [
    "6- Quelles instructions faut-il lancer pour retrouver le prénom et le numéro associés à la fiche4 ? "
   ]
  },
  {
   "cell_type": "code",
   "execution_count": null,
   "metadata": {},
   "outputs": [],
   "source": [
    "... # affiche la valeur associée à la clé \"Prénom\" de la fiche4\n",
    "... # affiche la valeur associée à la clé \"Numéro\" de la fiche4"
   ]
  },
  {
   "cell_type": "markdown",
   "metadata": {},
   "source": [
    "![Photo_de_famille](fichiers/addams_familly.png \"Photo de famille\")"
   ]
  },
  {
   "cell_type": "markdown",
   "metadata": {},
   "source": [
    "7- <b>Annuaire complet:</b>  \n",
    "Pour construire l'annuaire, nous allons stocker  chaque fiche dans une liste."
   ]
  },
  {
   "cell_type": "code",
   "execution_count": null,
   "metadata": {},
   "outputs": [],
   "source": [
    "annuaire = [fiche1, fiche2, fiche3, fiche4] # création de la liste de dictionnaires\n",
    "annuaire # affiche l'annuaire"
   ]
  },
  {
   "cell_type": "markdown",
   "metadata": {},
   "source": [
    "Créez votre fiche et ajoutez-la à l'annuaire à l'aide de la méthode <code>append()</code>."
   ]
  },
  {
   "cell_type": "code",
   "execution_count": null,
   "metadata": {},
   "outputs": [],
   "source": [
    "fiche5 = {...} # création de la fiche\n",
    "... # ajout de la fiche à l'annuaire\n",
    "annuaire # affiche l'annuaire pour vérifier"
   ]
  },
  {
   "cell_type": "markdown",
   "metadata": {},
   "source": [
    "Cette organisation des variables porte le nom de <b><u>p-uplet nommé</b></u>.  \n",
    "Il s'agit en fait d'une liste de dictionnaire qui ont des clés communes.\n",
    "\n",
    "Il devient possible d'interroger tous les prénoms de l'annuaire:"
   ]
  },
  {
   "cell_type": "code",
   "execution_count": null,
   "metadata": {},
   "outputs": [],
   "source": [
    "for dico in annuaire: # dico est l'itérateur de la liste annuaire\n",
    "    print(dico[\"Prénom\"]) # on affiche la valeur associée à la clé \"Prénom\" de chaque dictionnaire "
   ]
  },
  {
   "cell_type": "markdown",
   "metadata": {},
   "source": [
    "8- Listez tous les numéros de téléphone:"
   ]
  },
  {
   "cell_type": "code",
   "execution_count": null,
   "metadata": {},
   "outputs": [],
   "source": [
    "for dico in annuaire: # dico est l'itérateur de la liste annuaire\n",
    "    print(...) # on affiche la valeur associée à la clé \"Numéro\" de chaque dictionnaire"
   ]
  },
  {
   "cell_type": "markdown",
   "metadata": {},
   "source": [
    "9- <b>Défi1:</b>Testez si \"Nom\" fait partie des clés de l'annuaire.  \n",
    "Remarque: <code>annuaire[0].keys()</code> renoie la liste de toutes les clés de l'annuaire"
   ]
  },
  {
   "cell_type": "code",
   "execution_count": null,
   "metadata": {},
   "outputs": [],
   "source": [
    "\"Nom\" in ... # complétez ici le test à effectuer"
   ]
  },
  {
   "cell_type": "markdown",
   "metadata": {},
   "source": [
    "10- Programmez maintenant une fonction <code>test_clef</code> qui prend l'annuaire et le nom d'une clé en paramètres.  \n",
    "Elle teste si cette clé fait partie des clés de l'annuaire.  \n",
    "Testez cette fonction pour voir si \"Nom\", \"Adresse\" et \"e-mail\" sont des clés de l'annuaire."
   ]
  },
  {
   "cell_type": "code",
   "execution_count": 1,
   "metadata": {},
   "outputs": [
    {
     "ename": "NameError",
     "evalue": "name 'annuaire' is not defined",
     "output_type": "error",
     "traceback": [
      "\u001b[1;31m---------------------------------------------------------------------------\u001b[0m",
      "\u001b[1;31mNameError\u001b[0m                                 Traceback (most recent call last)",
      "\u001b[1;32m<ipython-input-1-a0f88ffa4a5f>\u001b[0m in \u001b[0;36m<module>\u001b[1;34m\u001b[0m\n\u001b[0;32m      6\u001b[0m     \u001b[1;32mreturn\u001b[0m \u001b[0mclef\u001b[0m \u001b[1;32min\u001b[0m \u001b[1;33m...\u001b[0m \u001b[1;31m# complétez ici le test à effectuer\u001b[0m\u001b[1;33m\u001b[0m\u001b[1;33m\u001b[0m\u001b[0m\n\u001b[0;32m      7\u001b[0m \u001b[1;33m\u001b[0m\u001b[0m\n\u001b[1;32m----> 8\u001b[1;33m \u001b[0mprint\u001b[0m\u001b[1;33m(\u001b[0m\u001b[0mtest_clef\u001b[0m \u001b[1;33m(\u001b[0m\u001b[0mannuaire\u001b[0m\u001b[1;33m,\u001b[0m\u001b[1;34m\"Nom\"\u001b[0m\u001b[1;33m)\u001b[0m\u001b[1;33m)\u001b[0m\u001b[1;33m\u001b[0m\u001b[1;33m\u001b[0m\u001b[0m\n\u001b[0m\u001b[0;32m      9\u001b[0m \u001b[0mprint\u001b[0m\u001b[1;33m(\u001b[0m\u001b[0mtest_clef\u001b[0m \u001b[1;33m(\u001b[0m\u001b[0mannuaire\u001b[0m\u001b[1;33m,\u001b[0m\u001b[1;34m\"Adresse\"\u001b[0m\u001b[1;33m)\u001b[0m\u001b[1;33m)\u001b[0m\u001b[1;33m\u001b[0m\u001b[1;33m\u001b[0m\u001b[0m\n\u001b[0;32m     10\u001b[0m \u001b[0mprint\u001b[0m\u001b[1;33m(\u001b[0m\u001b[0mtest_clef\u001b[0m \u001b[1;33m(\u001b[0m\u001b[0mannuaire\u001b[0m\u001b[1;33m,\u001b[0m\u001b[1;34m\"e-mail\"\u001b[0m\u001b[1;33m)\u001b[0m\u001b[1;33m)\u001b[0m\u001b[1;33m\u001b[0m\u001b[1;33m\u001b[0m\u001b[0m\n",
      "\u001b[1;31mNameError\u001b[0m: name 'annuaire' is not defined"
     ]
    }
   ],
   "source": [
    "def test_clef (liste_dicos, clef):\n",
    "    \"\"\" list * str -> bool\n",
    "    liste_dicos est un p-uplet nommé.\n",
    "    La fonction renvoie True si clef est une clé de liste_dicos\n",
    "    \"\"\"\n",
    "    return clef in ... # complétez ici le test à effectuer\n",
    "\n",
    "print(test_clef (annuaire,\"Nom\"))\n",
    "print(test_clef (annuaire,\"Adresse\"))\n",
    "print(test_clef (annuaire,\"e-mail\"))"
   ]
  },
  {
   "cell_type": "markdown",
   "metadata": {},
   "source": [
    "![Golde_Globes](fichiers/golden_globes.png \"Logo officiel des Golden Globes\")"
   ]
  },
  {
   "cell_type": "markdown",
   "metadata": {},
   "source": [
    "Exécutez le programme ci-dessous:  \n",
    "Il récupère les données d'un fichier .csv qui contient tout les résultats des <b>Golden Globes</b> depuis 1943 jusqu'en 2019."
   ]
  },
  {
   "cell_type": "code",
   "execution_count": 1,
   "metadata": {},
   "outputs": [],
   "source": [
    "golden_globes=[] # création de la liste vide qui va accueillir les dictionnaires\n",
    "with open('fichiers/golden_globe_awards-v3.csv', encoding=\"utf8\", errors='ignore') as fichier: # ouverture du fichier en lecture\n",
    "    ligne = fichier.readline() # lecture de la première ligne\n",
    "    clefs = ligne.rstrip(\"\\n\").split(\",\") # récupération de tous les éléments de la première lignes\n",
    "    for ligne in fichier:\n",
    "        dico = {}\n",
    "        #ligne = fichier.readline() \n",
    "        elements = ligne.rstrip(\"\\n\").split(\",\")\n",
    "        for i in range(len(clefs)):\n",
    "            dico[clefs[i]] = elements[i]\n",
    "        golden_globes.append(dico)\n"
   ]
  },
  {
   "cell_type": "markdown",
   "metadata": {},
   "source": [
    "11- Combien y-a-t-il d'éléments dans la liste <code>golden_globes</code>?"
   ]
  },
  {
   "cell_type": "code",
   "execution_count": 2,
   "metadata": {},
   "outputs": [
    {
     "data": {
      "text/plain": [
       "7990"
      ]
     },
     "execution_count": 2,
     "metadata": {},
     "output_type": "execute_result"
    }
   ],
   "source": [
    "len(golden_globes)"
   ]
  },
  {
   "cell_type": "markdown",
   "metadata": {},
   "source": [
    "Afficher le contenu de trois éléments de la liste: Par exemple les lignes 7000 à 7002"
   ]
  },
  {
   "cell_type": "code",
   "execution_count": null,
   "metadata": {},
   "outputs": [],
   "source": [
    "for i in range(7000, 7003):\n",
    "    print(golden_globes[i])"
   ]
  },
  {
   "cell_type": "markdown",
   "metadata": {},
   "source": [
    "12- Récupérez les clefs d'une ligne de la liste (par exemple la ligne d'indice 7000 ou 0)"
   ]
  },
  {
   "cell_type": "code",
   "execution_count": null,
   "metadata": {},
   "outputs": [],
   "source": [
    "..."
   ]
  },
  {
   "cell_type": "markdown",
   "metadata": {},
   "source": [
    "Le programme suivant affiche tous les éléments de la liste comportant le nom de 'Robin Williams'"
   ]
  },
  {
   "cell_type": "code",
   "execution_count": null,
   "metadata": {},
   "outputs": [],
   "source": [
    "for dico in golden_globes:\n",
    "    if  'Robin Williams' in dico.values(): # test si dans cet élément de la liste golden_globes, 'Robin Williams' est une valeur \n",
    "        print(dico)"
   ]
  },
  {
   "cell_type": "markdown",
   "metadata": {},
   "source": [
    "13- <b>Défi 2:</b> Calculez le nombre de victoires de Robin Williams.  \n",
    "<u>Remarque:</u> Pour chaque ligne où apparait ce nom, il faut vérifier si <code>dico[\"win\"]=='True'</code>"
   ]
  },
  {
   "cell_type": "code",
   "execution_count": null,
   "metadata": {},
   "outputs": [],
   "source": [
    "victoires = 0\n",
    "for dico in golden_globes:\n",
    "    if  'Robin Williams' in ...: # test si dans cet élément de la liste golden_globes, 'Robin Williams' est une valeur \n",
    "        if ...: # test si la valeur associée à la clé 'wins' est 'True'\n",
    "            victoires += 1 # incrémentation du nombre de victoires\n",
    "print(\"Nombre de victoires de Robin Williams:\", victoires)"
   ]
  },
  {
   "cell_type": "markdown",
   "metadata": {},
   "source": [
    "14- Complétez le programme suivant pour qu'il affiche la catégorie et le film des nominations aux Golden Globes de Robin Williams, Jack Nicholson, Clint Eastwood et Meryl Streep.  \n",
    "Pour chacun, affichez le nombre de nominations."
   ]
  },
  {
   "cell_type": "code",
   "execution_count": null,
   "metadata": {},
   "outputs": [],
   "source": [
    "def n_nominee (gg, nom):\n",
    "    nominations = 0\n",
    "    for dico in gg:\n",
    "        if  nom in dico.values(): # test si dans cet élément de la liste gg, nom est une valeur\n",
    "            ...\n",
    "            nominations += 1 # incrémentation du nombre de nominations\n",
    "    print(\" -> Nombre de nominations de \",nom,\":\", nominations,\"\\n\")\n",
    "    \n",
    "n_nominee(golden_globes, 'Robin Williams')\n",
    "n_nominee(golden_globes, 'Jack Nicholson')\n",
    "n_nominee(golden_globes, 'Clint Eastwood')\n",
    "n_nominee(golden_globes, 'Meryl Streep')"
   ]
  },
  {
   "cell_type": "markdown",
   "metadata": {},
   "source": [
    "15- Complétez le programme suivant pour qu'il affiche l'année de nomination, la catégorie et le film des victoires aux Golden Globes de Robin Williams, Jack Nicholson, Clint Eastwood et Meryl Streep.  \n",
    "Et affichez le nombre de victoires pour chacun d'eux."
   ]
  },
  {
   "cell_type": "code",
   "execution_count": null,
   "metadata": {},
   "outputs": [],
   "source": [
    "def n_wins (gg, nom):\n",
    "    victoires = 0\n",
    "    for dico in gg:\n",
    "        if  nom in dico.values() and ...: # test si dans cet élément de la liste gg, nom est une valeur et si la valeur associée à la clé 'wins' est 'True'\n",
    "            ...\n",
    "            victoires += 1 # incrémentation du nombre de victoires\n",
    "    print(\" -> Nombre de victoires de \",nom,\":\", victoires,\"\\n\")\n",
    "    \n",
    "n_wins(golden_globes, 'Robin Williams')\n",
    "n_wins(golden_globes, 'Jack Nicholson')\n",
    "n_wins(golden_globes, 'Clint Eastwood')\n",
    "n_wins(golden_globes, 'Meryl Streep')"
   ]
  },
  {
   "cell_type": "markdown",
   "metadata": {},
   "source": [
    "16- <b>Défi Ultime:</b> Pourquoi l'article de Wikipédia semble se tromper en annonçant 31 nominations pour Meryl Streep ?  \n",
    "\"<b>Records.</b> Le 11 décembre 2017 , Meryl Streep améliore son record du plus grand nombre de nominations (31)...\""
   ]
  },
  {
   "cell_type": "code",
   "execution_count": null,
   "metadata": {},
   "outputs": [],
   "source": []
  }
 ],
 "metadata": {
  "kernelspec": {
   "display_name": "Python 3",
   "language": "python",
   "name": "python3"
  },
  "language_info": {
   "codemirror_mode": {
    "name": "ipython",
    "version": 3
   },
   "file_extension": ".py",
   "mimetype": "text/x-python",
   "name": "python",
   "nbconvert_exporter": "python",
   "pygments_lexer": "ipython3",
   "version": "3.7.3"
  }
 },
 "nbformat": 4,
 "nbformat_minor": 2
}
